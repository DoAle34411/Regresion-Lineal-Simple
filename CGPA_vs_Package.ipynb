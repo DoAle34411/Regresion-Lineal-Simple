{
 "cells": [
  {
   "cell_type": "markdown",
   "metadata": {},
   "source": [
    "<h1><center>Inteligencia Artificial I</center></h1>\n",
    "<h2><center>Regresión Lineal Simple</center></h2>\n",
    "\n",
    "<p><b>Instrucciones: </b>\n",
    "Desarrollo de un programa en Python para aplicar Regresión Lineal (Simple).\n",
    "\n",
    "<b>Información adicional:</b>\n",
    "<ul>\n",
    "    <li>Buscar un set de datos en otras fuentes de libre acceso: Kaggle, INEC, Git Hub, etc.</li>\n",
    "    <li>El archivo que se obtenga de la fuente de datos debería al menos tener 100 registros.</li>\n",
    "    <li>El archivo que se obtenga de la fuente de datos debería tener la posibilidad de aplicar el Algoritmo de Regresión Lineal Simple.</li>\n",
    "</ul>\n",
    "</p>\n",
    "\n",
    "<h3>Desarrollo</h3>\n",
    "<p><b>Dataset utilizado:</b> https://www.kaggle.com/datasets/parvmodi/cgpa-vs-package-in-lpa</p>\n",
    "<p><b>Descripción del Dataset utilizado:</b> El dataset obtiene datos de las notas de la universidad (CGPA) y las compara con las ofertas recibidas por los estudiantes (a estas el dataset los llama packages ya que incluye temas como salario, beneficios y otros, que se los puede llamar como la compensación total de una empresa). </p>"
   ]
  },
  {
   "cell_type": "code",
   "execution_count": null,
   "metadata": {},
   "outputs": [],
   "source": [
    "import numpy as np\n",
    "import matplotlib.pyplot as plt\n",
    "import pandas as pd\n",
    "\n",
    "dataset = pd.read_csv('placement.csv')\n",
    "X = dataset.iloc[:,:-1].values\n",
    "y= dataset.iloc[:,-1].values\n",
    "\n",
    "from sklearn.model_selection import train_test_split\n",
    "X_train, X_test, y_train, y_test = train_test_split(X, y, test_size=1/3, random_state=0)\n",
    "\n",
    "from sklearn.linear_model import LinearRegression\n",
    "regressor = LinearRegression()\n",
    "regressor.fit(X_train, y_train)\n",
    "\n",
    "y_pred = regressor.predict(X_test)\n"
   ]
  },
  {
   "cell_type": "code",
   "execution_count": null,
   "metadata": {},
   "outputs": [],
   "source": [
    "\n",
    "plt.scatter(X_train, y_train, color='red')\n",
    "plt.plot(X_train, regressor.predict(X_train), color='blue')\n",
    "plt.title('CGPA vs Paquete recibido')\n",
    "plt.xlabel('CGPA')\n",
    "plt.ylabel('Paquete recibido')\n",
    "plt.show()"
   ]
  },
  {
   "cell_type": "code",
   "execution_count": null,
   "metadata": {},
   "outputs": [],
   "source": [
    "plt.scatter(X_test, y_test, color='purple')\n",
    "plt.plot(X_train, regressor.predict(X_train), color='orange')\n",
    "plt.title('CGPA vs Paquete recibido (Conjunto de Prueba)')\n",
    "plt.xlabel('CGPA')\n",
    "plt.ylabel('Paquete recibido')\n",
    "plt.show()"
   ]
  },
  {
   "cell_type": "code",
   "execution_count": null,
   "metadata": {},
   "outputs": [],
   "source": []
  }
 ],
 "metadata": {
  "kernelspec": {
   "display_name": "Python 3 (ipykernel)",
   "language": "python",
   "name": "python3"
  },
  "language_info": {
   "codemirror_mode": {
    "name": "ipython",
    "version": 3
   },
   "file_extension": ".py",
   "mimetype": "text/x-python",
   "name": "python",
   "nbconvert_exporter": "python",
   "pygments_lexer": "ipython3",
   "version": "3.11.5"
  }
 },
 "nbformat": 4,
 "nbformat_minor": 2
}
